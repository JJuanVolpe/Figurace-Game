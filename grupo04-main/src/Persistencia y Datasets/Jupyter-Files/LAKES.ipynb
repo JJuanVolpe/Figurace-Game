{
 "cells": [
  {
   "cell_type": "code",
   "execution_count": 3,
   "id": "57e2a318",
   "metadata": {},
   "outputs": [],
   "source": [
    "import csv\n",
    "import os\n",
    "import re\n",
    "\n",
    "\n",
    "def route_new_file():\n",
    "    \"\"\"\n",
    "    Devuelve ruta ESTIMADA de nuevo archivo csv (incluyendo nombre)\n",
    "    \"\"\"\n",
    "    path_file = os.path.join(os.getcwd(), 'datasets/new_data_set.csv')\n",
    "    return path_file\n",
    "\n",
    "\n",
    "def route_csv_file_to_work():\n",
    "    \"\"\"\n",
    "    Devuelve ruta del archivo csv a procesar (incluyendo nombre)\n",
    "    \"\"\"\n",
    "    path_file = os.path.join(os.getcwd(), 'datasets/Lagos Argentina - Hoja 1.csv')\n",
    "    return path_file\n",
    "\n",
    "\n",
    "def exists_new_file():\n",
    "    \"\"\"\n",
    "    Retorna true si existe el data-set de lagos generado con las especificaciones solicitadas\n",
    "    \"\"\"\n",
    "    route_of_new_dataset = route_new_file()\n",
    "    return os.path.exists(route_of_new_dataset)\n",
    "\n",
    "\n",
    "def evaluate_coordinates(line):\n",
    "    \"\"\"Conversión de Coordenadas: se asumió una conversión del sistema DMS al DD (grados)\n",
    "        Comprobé la conversión en: http://maps.marnoto.com/es/conversor-coordenadas/# ->Muy sencillo de comrpobar|\n",
    "        Ultimo espacio de lista vacio inutilizable :/  a[6]= '' , falta filtrar por \\s?\n",
    "    \"\"\"\n",
    "    a = re.split(r'[°\\'\"SO]+', line[4])  # Filtro columna de coordenadas generando vector de latitud y longitud\n",
    "    del a[6]  # Innecesario si acomodamos el re.split()\n",
    "\n",
    "    aux = str(int(a[0]) + (int(a[1]) / 60) + (int(a[2]) / 3600))[0:5]\n",
    "    aux = aux + '°S, ' + str(int(a[3]) + (int(a[4]) / 60) + (int(a[5]) / 3600))[0:5] + '°W'\n",
    "    line[4] = aux\n",
    "\n",
    "\n",
    "def process_csv_data(reader_csv_data, writer):\n",
    "    \"\"\"Escribiendo nuevo contenido en orden específico,\n",
    "     teniendo en cuenta irregularidades del data-set\n",
    "    \"\"\"\n",
    "    encabezados = reader_csv_data.__next__()  # Escribo titulares separados por coma (cómo venían)..\n",
    "    encabezados.append(encabezados.pop(0))\n",
    "    writer.writerow(encabezados)\n",
    "\n",
    "    for line in reader_csv_data:\n",
    "        names = line.pop(0)\n",
    "        line.append(names)\n",
    "        evaluate_empty_fields(line)\n",
    "        evaluate_coordinates(line)\n",
    "\n",
    "        print(line)\n",
    "        writer.writerow(line)\n",
    "\n",
    "\n",
    "def evaluate_empty_fields(line):\n",
    "    if '' == line[2]:  # Posición relativa a Profundidad Media (m)\n",
    "        line[2] = 'Desconocido'\n",
    "    if '' == line[3]:  # Posición relativa a Profundidad Máxima (m)\n",
    "        line[3] = 'Desconocido'\n",
    "\n",
    "\n",
    "def obtain_csv_dataset(csv_file):\n",
    "    \"\"\"Esta funcion recibe el dataset referente a lagos, y devuelve un nuevo archivo\n",
    "        (en formato csv)\n",
    "    \"\"\"\n",
    "    path_new_file = route_new_file()\n",
    "\n",
    "    with open(csv_file, 'r') as data_set, open(path_new_file, 'x') as new_csv:\n",
    "        file_reader = csv.reader(data_set)\n",
    "        writer = csv.writer(new_csv)\n",
    "        process_csv_data(file_reader, writer)"
   ]
  },
  {
   "cell_type": "markdown",
   "id": "dc8e97bc",
   "metadata": {},
   "source": [
    "Las anteriores funciones nos permiten el correcto procesamiento de la data según las especificaciones requeridas.\n",
    "(Conversión de coordenadas, ubicación de campos en csv y su creación)"
   ]
  },
  {
   "cell_type": "code",
   "execution_count": 4,
   "id": "0e030596",
   "metadata": {},
   "outputs": [],
   "source": [
    "\n",
    "def generate_csv():\n",
    "    try:\n",
    "        if not exists_new_file():\n",
    "            obtain_csv_dataset(route_csv_file_to_work())\n",
    "    except FileExistsError as error:\n",
    "        print(f'Se ha hallado un error (FileExistError) existe el csv a generar: {error.__str__()}')\n",
    "    except FileNotFoundError as not_found_f:\n",
    "        print(f'No se ha hallado un archivo existente, error:{not_found_f}')\n",
    "        \n",
    "\n",
    "generate_csv()"
   ]
  },
  {
   "cell_type": "markdown",
   "id": "375d6612",
   "metadata": {},
   "source": [
    "Se genera la invocación para crear el csv nuevo"
   ]
  },
  {
   "cell_type": "code",
   "execution_count": null,
   "id": "ec93351b",
   "metadata": {},
   "outputs": [],
   "source": []
  }
 ],
 "metadata": {
  "kernelspec": {
   "display_name": "Python 3 (ipykernel)",
   "language": "python",
   "name": "python3"
  },
  "language_info": {
   "codemirror_mode": {
    "name": "ipython",
    "version": 3
   },
   "file_extension": ".py",
   "mimetype": "text/x-python",
   "name": "python",
   "nbconvert_exporter": "python",
   "pygments_lexer": "ipython3",
   "version": "3.10.2"
  }
 },
 "nbformat": 4,
 "nbformat_minor": 5
}
