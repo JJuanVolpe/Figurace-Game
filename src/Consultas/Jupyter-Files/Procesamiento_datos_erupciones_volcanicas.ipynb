{
  "cells": [
    {
      "cell_type": "markdown",
      "metadata": {
        "id": "62VnAzkRMY-Z"
      },
      "source": [
        "### Procesamiento dataset de erupciones volcanicas\n",
        "\n",
        "En primer lugar, importamos las librerias necesarias"
      ]
    },
    {
      "cell_type": "code",
      "execution_count": 29,
      "metadata": {
        "id": "rnEbu6vCM1AJ"
      },
      "outputs": [],
      "source": [
        "import csv\n",
        "import os.path\n",
        "import os\n",
        "import requests\n",
        "import traductor"
      ]
    },
    {
      "cell_type": "markdown",
      "metadata": {
        "id": "PniJKiu4M89l"
      },
      "source": [
        "Cabe destacar que se ha importado la libreria *traductor* para poder realizar la traduccion de palabras del ingles al espanol. La misma se puede consultar en el siguiente [link](https://github.com/LuisAlejandroSalcedo/traductor-de-palabras/blob/master/traductor.py)."
      ]
    },
    {
      "cell_type": "markdown",
      "metadata": {
        "id": "Oa11zFf2N8OY"
      },
      "source": [
        "A continuacion, abrimos el archivo y guardamos los datos del mismo. en *header* se almacenaran los titulos de las columnas, y en *erupciones* los datos de cada una "
      ]
    },
    {
      "cell_type": "code",
      "execution_count": 30,
      "metadata": {
        "id": "7bdsVGlxOQFZ"
      },
      "outputs": [],
      "source": [
        "path_files = \"Dataset\"\n",
        "archivo_erupciones_volcanicas = \"significant-volcanic-eruption-database.csv\"\n",
        "path_arch = os.path.join(os.getcwd(), path_files)\n",
        "try:\n",
        "    with open(os.path.join(path_arch, archivo_erupciones_volcanicas)) as erupciones_volcanicas:\n",
        "        data_erupciones = csv.reader(erupciones_volcanicas, delimiter=';')\n",
        "        header , erupciones = next(data_erupciones), list(data_erupciones)\n",
        "except FileNotFoundError as no_hay_archivo:\n",
        "    print(f'El archivo a procesar no se encuentra en la ruta especificada, error: {no_hay_archivo}')        "
      ]
    },
    {
      "cell_type": "markdown",
      "metadata": {
        "id": "2KCZsV1WOVGJ"
      },
      "source": [
        "Se definen las funciones que se utilizara para el procesado de los datos del archivo de acuerdo a lo solicitado"
      ]
    },
    {
      "cell_type": "code",
      "execution_count": 31,
      "metadata": {
        "id": "jY3qTKo4O40Y"
      },
      "outputs": [],
      "source": [
        "def generar_traducciones(data_arch):\n",
        "    \"\"\"\n",
        "        Funcion que encuentra todos los diferentes tipos de volcanes y las traduce del ingles al español\n",
        "        Devuelve las traducciones en un diccionario, donde cada clave es la palabra en ingles y los valores son sus traducciones\n",
        "    \"\"\"\n",
        "    lista_tipos = map(lambda fila: fila[9], data_arch)\n",
        "    tipos_volcanes = list(set(lista_tipos))\n",
        "    dicci_traducciones = {tipo:traductor.Traduccion(\"en\",\"es\",tipo) for tipo in tipos_volcanes}\n",
        "    return dicci_traducciones\n",
        "\n",
        "traducciones = generar_traducciones(erupciones)\n",
        "\n",
        "header.append(\"Name and country\")\n",
        "\n",
        "def combinar_nombre_volcan_y_pais(una_linea):\n",
        "    \"\"\"\n",
        "        Funcion que recibe una linea del archivo y concatena los strings al formato nombre_volcan(pais_al_que_pertenece)\n",
        "    \"\"\"\n",
        "    return una_linea[5] + \"(\" + una_linea[7] + \")\"\n",
        "\n",
        "def comprobar_flag(una_linea, indice, cadena_a_comprobar):\n",
        "    \"\"\"\n",
        "        Funcion que convierte a valores booleanos los datos contenidos en las columnas flag earthquake y flag tsunami.\n",
        "    \"\"\"\n",
        "    if una_linea[indice] == cadena_a_comprobar:\n",
        "        una_linea[indice] = True\n",
        "    else:\n",
        "        una_linea[indice] = False    \n"
      ]
    },
    {
      "cell_type": "markdown",
      "metadata": {
        "id": "7vaEe8KnRLf5"
      },
      "source": [
        "Procesamos cada linea del archivo realizando lo solicitado, invocando a cada funcion correspondiente"
      ]
    },
    {
      "cell_type": "code",
      "execution_count": 32,
      "metadata": {
        "id": "out10H-xRcWN"
      },
      "outputs": [],
      "source": [
        "for linea in erupciones:\n",
        "    linea[9] = traducciones[linea[9]]\n",
        "    linea.append(combinar_nombre_volcan_y_pais(linea))\n",
        "    comprobar_flag(linea, 3, \"Tsunami\")\n",
        "    comprobar_flag(linea, 4, \"Earthquake\")\n"
      ]
    },
    {
      "cell_type": "markdown",
      "metadata": {
        "id": "5wGlreQjRfgo"
      },
      "source": [
        "Una vez procesada cada linea del archivo, se procede a guardar los datos en un archivo csv, quedandonos solamente con las columnas solicitadas."
      ]
    },
    {
      "cell_type": "code",
      "execution_count": 33,
      "metadata": {
        "id": "uWmQiWa6RvTw"
      },
      "outputs": [],
      "source": [
        "nuevo_csv = \"erupciones_volcanicas_data.csv\"\n",
        "with open(os.path.join(path_arch, nuevo_csv), 'w', encoding = \"utf-8\") as salida:\n",
        "    writer = csv.writer(salida)\n",
        "    writer.writerow([\"Year\",  \"Volcanic Explosivity Index\", \"Volcano Type\", \"Flag Tsunami\", \"Flag Earthquake\", \"Name and country\"])\n",
        "    for linea in erupciones:\n",
        "        writer.writerow([linea[header.index(\"Year\")], linea[header.index(\"Volcanic Explosivity Index\")], linea[header.index(\"Volcano Type\")], linea[header.index(\"Flag Tsunami\")], linea[header.index(\"Flag Earthquake\")], linea[header.index(\"Name and country\")]])"
      ]
    }
  ],
  "metadata": {
    "colab": {
      "collapsed_sections": [],
      "name": "Untitled1.ipynb",
      "provenance": []
    },
    "kernelspec": {
      "display_name": "Python 3",
      "name": "python3"
    },
    "language_info": {
      "codemirror_mode": {
        "name": "ipython",
        "version": 3
      },
      "file_extension": ".py",
      "mimetype": "text/x-python",
      "name": "python",
      "nbconvert_exporter": "python",
      "pygments_lexer": "ipython3",
      "version": "3.6.9"
    }
  },
  "nbformat": 4,
  "nbformat_minor": 0
}
